{
 "metadata": {
  "language_info": {
   "codemirror_mode": {
    "name": "ipython",
    "version": 3
   },
   "file_extension": ".py",
   "mimetype": "text/x-python",
   "name": "python",
   "nbconvert_exporter": "python",
   "pygments_lexer": "ipython3",
   "version": 3
  },
  "orig_nbformat": 2
 },
 "nbformat": 4,
 "nbformat_minor": 2,
 "cells": [
  {
   "cell_type": "code",
   "execution_count": null,
   "metadata": {},
   "outputs": [],
   "source": [
    "The worst-case complexity of a binary search is O(log n) while the worst-case complexity of a linear search is O(n). Binary search only works for a sorted array.\n",
    "\n",
    "\n",
    "def binary_search(data, elem):\n",
    "\n",
    "    low = 0\n",
    "    high = len(data) - 1\n",
    "\n",
    "    while low <= high:\n",
    "      \n",
    "        middle = (low + high)//2\n",
    "       \n",
    "        if data[middle] == elem:\n",
    "            return middle\n",
    "        elif data[middle] > elem:\n",
    "            high = middle - 1\n",
    "        else:\n",
    "            low = middle + 1\n",
    "\n",
    "    return -1"
   ]
  },
  {
   "cell_type": "code",
   "execution_count": null,
   "metadata": {},
   "outputs": [],
   "source": [
    "#Code to find the first occurence of an element 'K', where the element may appear more than once\n",
    "#the idea is that no element after the occurence you find can be the first occurence so you cut that part away\n",
    "def search_first_of_k(A,k):\n",
    "    left, right, result = 0, len(A) - 1, -1\n",
    "    while left <= right:\n",
    "        mid = (left + right) // 2\n",
    "        if A[mid] > k:\n",
    "            right = mid - 1\n",
    "        elif A[mid] == k:\n",
    "            result = mid\n",
    "            right = mid - 1 #nothing to the right of mid can be solution\n",
    "        else: #A[mid] < k\n",
    "            left = mid + 1\n",
    "    return result"
   ]
  }
 ]
}
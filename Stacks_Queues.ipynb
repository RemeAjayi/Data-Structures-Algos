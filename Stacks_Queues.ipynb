{
 "metadata": {
  "language_info": {
   "codemirror_mode": {
    "name": "ipython",
    "version": 3
   },
   "file_extension": ".py",
   "mimetype": "text/x-python",
   "name": "python",
   "nbconvert_exporter": "python",
   "pygments_lexer": "ipython3",
   "version": 3
  },
  "orig_nbformat": 2
 },
 "nbformat": 4,
 "nbformat_minor": 2,
 "cells": [
  {
   "cell_type": "code",
   "execution_count": null,
   "metadata": {},
   "outputs": [],
   "source": [
    "**Stacks**\n",
    "\n",
    "Stacks are Last In First Out. Adding to a stack is called a 'push' and removing from a stack is called a 'pop'\n",
    "Stacks and Queues are abstract data types and are implemented with other data types like linked lists\n",
    "\n",
    "Queue is First In First Out.\n",
    "Enqueue is an addition to the back of the queue and dequeue is a removal from the back of a queue\n",
    "Deck is a double ended Queues\n",
    "Priority queue is a queue with numbers given to each element, the element with the highest priority in dequeued \n",
    "\n"
   ]
  },
  {
   "cell_type": "code",
   "execution_count": null,
   "metadata": {},
   "outputs": [],
   "source": []
  }
 ]
}
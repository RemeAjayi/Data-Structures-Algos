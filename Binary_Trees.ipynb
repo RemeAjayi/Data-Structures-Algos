{
 "metadata": {
  "language_info": {
   "codemirror_mode": {
    "name": "ipython",
    "version": 3
   },
   "file_extension": ".py",
   "mimetype": "text/x-python",
   "name": "python",
   "nbconvert_exporter": "python",
   "pygments_lexer": "ipython3",
   "version": "3.8.5-final"
  },
  "orig_nbformat": 2,
  "kernelspec": {
   "name": "python3",
   "display_name": "Python 3",
   "language": "python"
  }
 },
 "nbformat": 4,
 "nbformat_minor": 2,
 "cells": [
  {
   "cell_type": "code",
   "execution_count": null,
   "metadata": {},
   "outputs": [],
   "source": [
    "A binary tree is either empty or  has a left subtree and a right subtree.\n",
    "Like a linked list a binary tree is made up of nodes. \n",
    "\n",
    "A node is an ancestor of d if it lies on the search path from the root to the node.\n",
    "If node A is an ancestor of d, d is a descendant of A. A node with no descendants except for itself is a leaf. \n",
    "\n",
    "There are three ways to traverse it.\n",
    "Inorder - left subtree first, root second and right subtree last\n",
    "Preorder - root first, left subtree, right subtree\n",
    "Postorder - left subtree, right subtree, then root\n",
    "\n"
   ]
  },
  {
   "cell_type": "code",
   "execution_count": 2,
   "metadata": {},
   "outputs": [],
   "source": [
    "class BinaryTreeNode:\n",
    "    def __init__(self, data=None, left=None, right=None):\n",
    "        self.data = data\n",
    "        self.left = left\n",
    "        self.right = right"
   ]
  },
  {
   "cell_type": "code",
   "execution_count": 7,
   "metadata": {},
   "outputs": [],
   "source": [
    "def tree_traversal(root):\n",
    "    if root:\n",
    "        print('Preorder: %s' % root.data)\n",
    "        tree_traversal(root.left)\n",
    "        print('Inorder: %s' % root.data)\n",
    "        tree_traversal(root.right)\n",
    "        print('Postorder: %s' % root.data)\n"
   ]
  },
  {
   "cell_type": "code",
   "execution_count": 8,
   "metadata": {},
   "outputs": [],
   "source": [
    "tree = BinaryTreeNode('A')\n",
    "tree.left = BinaryTreeNode('B')\n",
    "tree.right = BinaryTreeNode('K')\n",
    "tree.left.left = BinaryTreeNode('C')\n",
    "tree.left.right = BinaryTreeNode('H')\n",
    "tree.left.left.left = BinaryTreeNode('D')\n",
    "tree.left.left.right = BinaryTreeNode('G')\n",
    "tree.left.left.left.left = BinaryTreeNode('E')\n",
    "tree.left.left.left.right = BinaryTreeNode('F')\n",
    "tree.left.right.left = BinaryTreeNode('I')\n",
    "tree.left.right.right = BinaryTreeNode('J')\n",
    "tree.right.left = BinaryTreeNode('L')\n",
    "tree.right.right = BinaryTreeNode('O')\n",
    "tree.right.left.left = BinaryTreeNode('M')\n",
    "tree.right.left.right = BinaryTreeNode('N')"
   ]
  },
  {
   "cell_type": "code",
   "execution_count": 9,
   "metadata": {},
   "outputs": [
    {
     "output_type": "stream",
     "name": "stdout",
     "text": [
      "Preorder: A\nPreorder: B\nPreorder: C\nPreorder: D\nPreorder: E\nInorder: E\nPostorder: E\nInorder: D\nPreorder: F\nInorder: F\nPostorder: F\nPostorder: D\nInorder: C\nPreorder: G\nInorder: G\nPostorder: G\nPostorder: C\nInorder: B\nPreorder: H\nPreorder: I\nInorder: I\nPostorder: I\nInorder: H\nPreorder: J\nInorder: J\nPostorder: J\nPostorder: H\nPostorder: B\nInorder: A\nPreorder: K\nPreorder: L\nPreorder: M\nInorder: M\nPostorder: M\nInorder: L\nPreorder: N\nInorder: N\nPostorder: N\nPostorder: L\nInorder: K\nPreorder: O\nInorder: O\nPostorder: O\nPostorder: K\nPostorder: A\n"
     ]
    }
   ],
   "source": [
    "tree_traversal(tree)"
   ]
  },
  {
   "cell_type": "code",
   "execution_count": 13,
   "metadata": {},
   "outputs": [],
   "source": [
    "# A function to do inorder tree traversal \n",
    "def printInorder(root): \n",
    "  \n",
    "    if root: \n",
    "  \n",
    "        # First recur on left child \n",
    "        printInorder(root.left) \n",
    "  \n",
    "        # then print the data of node \n",
    "        print(root.data), \n",
    "  \n",
    "        # now recur on right child \n",
    "        printInorder(root.right) \n",
    "  \n",
    "  \n",
    "  \n",
    "# A function to do postorder tree traversal \n",
    "def printPostorder(root): \n",
    "  \n",
    "    if root: \n",
    "  \n",
    "        # First recur on left child \n",
    "        printPostorder(root.left) \n",
    "  \n",
    "        # the recur on right child \n",
    "        printPostorder(root.right) \n",
    "  \n",
    "        # now print the data of node \n",
    "        print(root.data), \n",
    "  \n",
    "  \n",
    "# A function to do preorder tree traversal \n",
    "def printPreorder(root): \n",
    "  \n",
    "    if root: \n",
    "  \n",
    "        # First print the data of node \n",
    "        print(root.data), \n",
    "  \n",
    "        # Then recur on left child \n",
    "        printPreorder(root.left) \n",
    "  \n",
    "        # Finally recur on right child \n",
    "        printPreorder(root.right) "
   ]
  },
  {
   "cell_type": "code",
   "execution_count": 14,
   "metadata": {},
   "outputs": [
    {
     "output_type": "stream",
     "name": "stdout",
     "text": [
      "Preorder traversal of binary tree is\nA\nB\nC\nD\nE\nF\nG\nH\nI\nJ\nK\nL\nM\nN\nO\n\nInorder traversal of binary tree is\nE\nD\nF\nC\nG\nB\nI\nH\nJ\nA\nM\nL\nN\nK\nO\n\nPostorder traversal of binary tree is\nE\nF\nD\nG\nC\nI\nJ\nH\nB\nM\nN\nL\nO\nK\nA\n"
     ]
    }
   ],
   "source": [
    "print (\"Preorder traversal of binary tree is\")\n",
    "printPreorder(tree) \n",
    "  \n",
    "print (\"\\nInorder traversal of binary tree is\")\n",
    "printInorder(tree) \n",
    "  \n",
    "print (\"\\nPostorder traversal of binary tree is\")\n",
    "printPostorder(tree) "
   ]
  },
  {
   "cell_type": "code",
   "execution_count": null,
   "metadata": {},
   "outputs": [],
   "source": []
  }
 ]
}
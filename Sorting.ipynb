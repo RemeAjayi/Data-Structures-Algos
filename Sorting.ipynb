{
 "cells": [
  {
   "cell_type": "code",
   "execution_count": null,
   "metadata": {},
   "outputs": [],
   "source": [
    "Bubble sort is the naive approach and has a time complexity of O(n^2) and a space complexity of O(1) because we didn't need any extra arrays\n",
    "\n",
    "Merge sort has a time complexity of O(nlogn) but a space complexity of O(n)\n",
    "\n",
    "Quick sort is the best sorting algorithm in a number of applications\n",
    "\n",
    "Python has a sort function\n"
   ]
  },
  {
   "cell_type": "code",
   "execution_count": 2,
   "metadata": {},
   "outputs": [],
   "source": [
    "#Solution to #349 \n",
    "class Solution:\n",
    "    def intersection(self, nums1, nums2):    \n",
    "        def search(elem, arr):\n",
    "            low = 0\n",
    "            high = len(arr) - 1\n",
    "            mid = low + high // 2\n",
    "            if arr[mid] == elem:\n",
    "                print('elem',elem,'arr_mid', arr[mid])\n",
    "                return elem\n",
    "            elif arr[mid] > elem:\n",
    "                high = mid - 1\n",
    "            else:\n",
    "                low = mid + 1\n",
    "            return -1\n",
    "        \n",
    "        result = []\n",
    "        for i in nums1:\n",
    "            if search(i, nums2) > 0:\n",
    "                result.append(i)\n",
    "        return set(result)"
   ]
  },
  {
   "cell_type": "code",
   "execution_count": 6,
   "metadata": {},
   "outputs": [
    {
     "name": "stdout",
     "output_type": "stream",
     "text": [
      "elem 2 arr_mid 2\n",
      "elem 2 arr_mid 2\n"
     ]
    },
    {
     "data": {
      "text/plain": [
       "{2}"
      ]
     },
     "execution_count": 6,
     "metadata": {},
     "output_type": "execute_result"
    }
   ],
   "source": [
    "sol = Solution()\n",
    "sol.intersection([1,2,2,1], [2,2])"
   ]
  },
  {
   "cell_type": "code",
   "execution_count": null,
   "metadata": {},
   "outputs": [],
   "source": [
    "#Solution to #349 that is better\n",
    "class Solution:\n",
    "    def set_intersection(self, set1, set2):\n",
    "        return [x for x in set1 if x in set2]\n",
    "        \n",
    "    def intersection(self, nums1, nums2):\n",
    "        \"\"\"\n",
    "        :type nums1: List[int]\n",
    "        :type nums2: List[int]\n",
    "        :rtype: List[int]\n",
    "        \"\"\"  \n",
    "        set1 = set(nums1)\n",
    "        set2 = set(nums2)\n",
    "        \n",
    "        if len(set1) < len(set2):\n",
    "            return self.set_intersection(set1, set2)\n",
    "        else:\n",
    "            return self.set_intersection(set2, set1)"
   ]
  },
  {
   "cell_type": "code",
   "execution_count": 30,
   "metadata": {},
   "outputs": [],
   "source": [
    "#EPI PROBLEM 13.3 REMOVE FIRST NAME DUPLICATES\n",
    "\n",
    "A = [(\"Sochima\", \"Madu\"), (\"Oluchi\", \"Okey\"), (\"Sochima\", \"Vulasi\"), (\"Oluchi\", \"Okoro\"), (\"Sochima\", \"Agu\")]\n",
    "B = [(\"Ann\", \"Powell\")] * 7 \n",
    "\n",
    "def eliminate_duplicates(A):\n",
    "    if len(A) == 0:\n",
    "        return \"Array is empty\"\n",
    "    A.sort() # Makes identical elements become neighbours\n",
    "    write_idx = 1\n",
    "    for cand in A[1:]:\n",
    "        print(write_idx)\n",
    "        if cand[0] != A[write_idx - 1][0]:\n",
    "            A[write_idx] = cand\n",
    "            write_idx += 1\n",
    "    del A[write_idx:] \n",
    "\n",
    "\n"
   ]
  },
  {
   "cell_type": "code",
   "execution_count": 31,
   "metadata": {},
   "outputs": [
    {
     "data": {
      "text/plain": "[('Oluchi', 'Okey'),\n ('Oluchi', 'Okoro'),\n ('Sochima', 'Agu'),\n ('Sochima', 'Madu'),\n ('Sochima', 'Vulasi')]"
     },
     "execution_count": 31,
     "metadata": {},
     "output_type": "execute_result"
    }
   ],
   "source": [
    "A.sort()\n",
    "A"
   ]
  },
  {
   "cell_type": "code",
   "execution_count": 32,
   "metadata": {},
   "outputs": [
    {
     "data": {
      "text/plain": "[('Ann', 'Powell'),\n ('Ann', 'Powell'),\n ('Ann', 'Powell'),\n ('Ann', 'Powell'),\n ('Ann', 'Powell'),\n ('Ann', 'Powell'),\n ('Ann', 'Powell')]"
     },
     "execution_count": 32,
     "metadata": {},
     "output_type": "execute_result"
    }
   ],
   "source": [
    "B"
   ]
  },
  {
   "cell_type": "code",
   "execution_count": 33,
   "metadata": {},
   "outputs": [
    {
     "name": "stdout",
     "output_type": "stream",
     "text": [
      "1\n",
      "1\n",
      "2\n",
      "2\n"
     ]
    },
    {
     "data": {
      "text/plain": "[('Oluchi', 'Okey'), ('Sochima', 'Agu')]"
     },
     "execution_count": 33,
     "metadata": {},
     "output_type": "execute_result"
    }
   ],
   "source": [
    "eliminate_duplicates(A)\n",
    "A\n"
   ]
  },
  {
   "cell_type": "code",
   "execution_count": 34,
   "metadata": {},
   "outputs": [
    {
     "name": "stdout",
     "output_type": "stream",
     "text": [
      "1\n",
      "1\n",
      "1\n",
      "1\n",
      "1\n",
      "1\n"
     ]
    },
    {
     "data": {
      "text/plain": "[('Ann', 'Powell')]"
     },
     "execution_count": 34,
     "metadata": {},
     "output_type": "execute_result"
    }
   ],
   "source": [
    "eliminate_duplicates(B)\n",
    "B"
   ]
  },
  {
   "cell_type": "code",
   "execution_count": 35,
   "metadata": {},
   "outputs": [
    {
     "data": {
      "text/plain": "'Array is empty'"
     },
     "execution_count": 35,
     "metadata": {},
     "output_type": "execute_result"
    }
   ],
   "source": [
    "eliminate_duplicates([])\n"
   ]
  },
  {
   "cell_type": "code",
   "execution_count": null,
   "metadata": {},
   "outputs": [],
   "source": []
  }
 ],
 "metadata": {
  "kernelspec": {
   "display_name": "Python 3",
   "language": "python",
   "name": "python3"
  },
  "language_info": {
   "codemirror_mode": {
    "name": "ipython",
    "version": 3
   },
   "file_extension": ".py",
   "mimetype": "text/x-python",
   "name": "python",
   "nbconvert_exporter": "python",
   "pygments_lexer": "ipython3",
   "version": "3.8.5-final"
  },
  "orig_nbformat": 2
 },
 "nbformat": 4,
 "nbformat_minor": 2
}
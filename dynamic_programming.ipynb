{
 "cells": [
  {
   "cell_type": "code",
   "execution_count": 9,
   "metadata": {},
   "outputs": [],
   "source": [
    "def fibonacciVal(n):\n",
    "    memo = [0] * (n+1)  \n",
    "    memo[0], memo[1] = 0, 1  \n",
    "    for i in range(2, n+1):    \n",
    "        memo[i] = memo[i-1] + memo[i-2]  \n",
    "    return memo[n]\n"
   ]
  },
  {
   "cell_type": "code",
   "execution_count": 2,
   "metadata": {},
   "outputs": [],
   "source": [
    "def fib(n):\n",
    "    if n <= 0: \n",
    "        return 0\n",
    "    if n == 1:\n",
    "        return 1\n",
    "    return fib(n-1) + fib(n-2)"
   ]
  },
  {
   "cell_type": "code",
   "execution_count": 10,
   "metadata": {},
   "outputs": [
    {
     "data": {
      "text/plain": "12586269025"
     },
     "execution_count": 10,
     "metadata": {},
     "output_type": "execute_result"
    }
   ],
   "source": [
    "fibonacciVal(50)"
   ]
  },
  {
   "cell_type": "code",
   "execution_count": 16,
   "metadata": {},
   "outputs": [],
   "source": [
    "\"\"\"canSum - Returns true when any number in the numbers array can sum to the target sum \n",
    "Params - target sum(int) and numbers(array of ints)\n",
    "Returns - Boolean (if sum is possible or not)\n",
    "\"\"\"\n",
    "\n",
    "#brute force O(n^m) time, O(m) space\n",
    "def canSum(target, numbers):\n",
    "    if target == 0: \n",
    "        return True\n",
    "    if target < 0:\n",
    "        return False\n",
    "\n",
    "    for num in numbers:\n",
    "        remainder = target - num\n",
    "        if(canSum(remainder, numbers) == True):\n",
    "            return True\n",
    "    \n",
    "    return False\n",
    "\n",
    "# #memoized version O(m * n), O(m)\n",
    "def canSum(target, numbers, memo=None):\n",
    "    if memo is None:\n",
    "        memo = {}\n",
    "    if target in memo: \n",
    "        return memo[target]\n",
    "    if target == 0: \n",
    "        return True\n",
    "    if target < 0:\n",
    "        return False\n",
    "\n",
    "    for num in numbers:\n",
    "        remainder = target - num\n",
    "        if(canSum(remainder, numbers) == True):\n",
    "            memo[target] = True\n",
    "            return True\n",
    "    \n",
    "    memo[target] = False\n",
    "    return False"
   ]
  },
  {
   "cell_type": "code",
   "execution_count": 17,
   "metadata": {},
   "outputs": [
    {
     "name": "stdout",
     "output_type": "stream",
     "text": [
      "True\n"
     ]
    }
   ],
   "source": [
    "print(canSum(300, [5,3,4,2]))"
   ]
  },
  {
   "cell_type": "code",
   "execution_count": 1,
   "metadata": {},
   "outputs": [],
   "source": [
    "\"\"\"howSum - Returns an array of nums in the numbers array can sum to the target sum \n",
    "Params - target sum(int) and numbers(array of ints)\n",
    "Returns -  array\n",
    "\"\"\"\n",
    "\n",
    "#brute force O(n^m * m) time, O(m) space\n",
    "def howSum(target, numbers):\n",
    "    if target == 0: \n",
    "        return []\n",
    "    if target < 0:\n",
    "        return None\n",
    "\n",
    "    for num in numbers:\n",
    "        remainder = target - num\n",
    "        remainderResult = howSum(remainder, numbers)\n",
    "        if remainderResult is not None:\n",
    "            remainderResult.append(num)\n",
    "            return remainderResult\n",
    "    \n",
    "    return None\n",
    "\n",
    "# #memoized version O(m * n), O(m)\n",
    "# def howSum(target, numbers, memo):\n"
   ]
  },
  {
   "cell_type": "code",
   "execution_count": 2,
   "metadata": {},
   "outputs": [
    {
     "name": "stdout",
     "output_type": "stream",
     "text": [
      "[2, 5]\n"
     ]
    }
   ],
   "source": [
    "print(howSum(7, [5,3,4,2]))"
   ]
  },
  {
   "cell_type": "code",
   "execution_count": 6,
   "metadata": {},
   "outputs": [],
   "source": [
    "class Solution:\n",
    "    def __init__(self):\n",
    "        self.memo = {}\n",
    "    def coinChange(self, coins: List[int], amount: int) -> int:\n",
    "        #Based on Alvin's Best sum code on freecodecamp dynamic programming lecture\n",
    "        if amount in self.memo:\n",
    "            return self.memo[amount]\n",
    "        if amount == 0: \n",
    "            return 0\n",
    "        if amount < 0:\n",
    "            return -1\n",
    "        \n",
    "        fewestCoins = -1\n",
    "        for coin in coins:\n",
    "            rem = amount - coin\n",
    "            change = self.coinChange(coins, rem)\n",
    "            if change >= 0:\n",
    "                change += 1\n",
    "                if change < fewestCoins or fewestCoins == -1:\n",
    "                    fewestCoins = change\n",
    "                    \n",
    "        self.memo[amount] = fewestCoins       \n",
    "        return fewestCoins"
   ]
  },
  {
   "cell_type": "markdown",
   "metadata": {},
   "source": [
    "Memoization - storing solutions for caching purposes"
   ]
  },
  {
   "cell_type": "code",
   "execution_count": null,
   "metadata": {},
   "outputs": [],
   "source": [
    "\"\"\"canConstruct\"\"\"\n",
    "\n",
    "str.startswith(prefix[, start[, end]])\n"
   ]
  }
 ],
 "metadata": {
  "kernelspec": {
   "display_name": "Python 3.8.10 64-bit ('tf24_1': conda)",
   "metadata": {
    "interpreter": {
     "hash": "75caae79a24cd3ab0bee34111fe82f35748e15ef5a42fee985bf2794860b13d7"
    }
   },
   "name": "python3"
  },
  "language_info": {
   "codemirror_mode": {
    "name": "ipython",
    "version": 3
   },
   "file_extension": ".py",
   "mimetype": "text/x-python",
   "name": "python",
   "nbconvert_exporter": "python",
   "pygments_lexer": "ipython3",
   "version": "3.8.10"
  },
  "orig_nbformat": 2
 },
 "nbformat": 4,
 "nbformat_minor": 2
}
{
 "metadata": {
  "language_info": {
   "codemirror_mode": {
    "name": "ipython",
    "version": 3
   },
   "file_extension": ".py",
   "mimetype": "text/x-python",
   "name": "python",
   "nbconvert_exporter": "python",
   "pygments_lexer": "ipython3",
   "version": "3.8.5-final"
  },
  "orig_nbformat": 2,
  "kernelspec": {
   "name": "python3",
   "display_name": "Python 3",
   "language": "python"
  }
 },
 "nbformat": 4,
 "nbformat_minor": 2,
 "cells": [
  {
   "cell_type": "code",
   "execution_count": 6,
   "metadata": {},
   "outputs": [
    {
     "output_type": "stream",
     "name": "stdout",
     "text": [
      "4\n3\n2\n1\n"
     ]
    }
   ],
   "source": [
    "class Solution():\n",
    "    def countdown(self,i):\n",
    "         print(i)\n",
    "    # base case\n",
    "         if i <=1 :\n",
    "             return\n",
    "    #recursive case\n",
    "         else:\n",
    "            self.countdown(i-1)\n",
    "sol = Solution()\n",
    "sol.countdown(4)"
   ]
  },
  {
   "cell_type": "code",
   "execution_count": null,
   "metadata": {},
   "outputs": [],
   "source": [
    "def recursive(input):\n",
    "    if input <= 0\n",
    "    return input\n",
    "    else\n",
    "    output = recursive(input - 1)\n",
    "    return output"
   ]
  },
  {
   "cell_type": "code",
   "execution_count": null,
   "metadata": {},
   "outputs": [],
   "source": [
    "You are correct, we have not defined anything yet, but that’s what I meant in the beginning of the article. To solve a recursion problem, let’s ASSUME that the function already works for any subproblem we want.\n",
    "\n",
    "To find the base case, find the simplest input you can be given and output the output for that."
   ]
  },
  {
   "cell_type": "code",
   "execution_count": 7,
   "metadata": {},
   "outputs": [],
   "source": [
    "num_rings = 4\n",
    "NUM_PEGS = 3\n",
    "pegs = [list(reversed(range(1, num_rings + 1)))] + [ [] for _ in range(1,  NUM_PEGS)]"
   ]
  },
  {
   "cell_type": "code",
   "execution_count": 8,
   "metadata": {},
   "outputs": [
    {
     "output_type": "stream",
     "name": "stdout",
     "text": [
      "[[4, 3, 2, 1], [], []]\n"
     ]
    }
   ],
   "source": [
    "print(pegs)"
   ]
  },
  {
   "cell_type": "code",
   "execution_count": 18,
   "metadata": {},
   "outputs": [],
   "source": [
    "class HanoiSolution: \n",
    "    count = 0\n",
    "    n=0\n",
    "    def __init__(self):\n",
    "        self.values = input(\"Enter number of stacks \")\n",
    "        n =self.values\n",
    "        \n",
    "\n",
    "    def hanoi(self, n, source, target, aux):\n",
    "        if n == 0:\n",
    "            return\n",
    "        if n == 1:\n",
    "            print(\"Move %i from tower %s to tower %s\" %(n, source, target))\n",
    "        else:\n",
    "            self.hanoi(n-1, source, aux, target)\n",
    "            print(\"Move %i from tower %s to tower %s\" %(n, source, target))\n",
    "            self.hanoi(n-1, aux, target, source)\n",
    "    \n",
    "\n",
    "sol = HanoiSolution()\n",
    "sol.hanoi(0, \"A\", \"C\", \"B\")"
   ]
  },
  {
   "cell_type": "code",
   "execution_count": 25,
   "metadata": {},
   "outputs": [],
   "source": [
    "NUM_PEGS = 3\n",
    "def compute_tower_hanoi(num_rings):\n",
    "    def compute_tower_hanoi_steps(num_rings_to_move, from_peg, to_peg, use_peg):\n",
    "        if num_rings_to_move > 0:\n",
    "            compute_tower_hanoi_steps(num_rings_to_move - 1, from_peg, use_peg, to_peg)\n",
    "            pegs[to_peg].append(pegs[from_peg].pop())\n",
    "            result.append([from_peg, to_peg])\n",
    "            compute_tower_hanoi_steps(num_rings_to_move - 1, use_peg, to_peg, from_peg )\n",
    "   # Initialize pegs.\n",
    "    result = []\n",
    "    pegs = [list(reversed(range(1, num_rings + 1)))] + [[] for _ in range(1, NUM_PEGS)]\n",
    "    compute_tower_hanoi_steps(num_rings, 0, 1, 2)\n",
    "    return result"
   ]
  },
  {
   "cell_type": "code",
   "execution_count": 26,
   "metadata": {},
   "outputs": [
    {
     "output_type": "stream",
     "name": "stdout",
     "text": [
      "[[0, 2], [0, 1], [2, 1], [0, 2], [1, 0], [1, 2], [0, 2], [0, 1], [2, 1], [2, 0], [1, 0], [2, 1], [0, 2], [0, 1], [2, 1]]\n"
     ]
    }
   ],
   "source": [
    "print(compute_tower_hanoi(4))"
   ]
  },
  {
   "cell_type": "code",
   "execution_count": 31,
   "metadata": {},
   "outputs": [],
   "source": [
    "def permutations(A):\n",
    "    def P(i):\n",
    "        if i == len(A) - 1:\n",
    "            result.append(A.copy())\n",
    "            return\n",
    "        #try every possibility for A[i]\n",
    "        for j in  range(i, len(A)):\n",
    "            A[i], A[j] = A[j], A[i]\n",
    "            #generate all permutations for A[i +1:]\n",
    "            P(i + 1)\n",
    "            A[i], A[j] = A[j], A[i]\n",
    "\n",
    "    result = []\n",
    "    P(0)\n",
    "    return result"
   ]
  },
  {
   "cell_type": "code",
   "execution_count": 34,
   "metadata": {},
   "outputs": [
    {
     "output_type": "stream",
     "name": "stdout",
     "text": [
      "['1', '2', '3']\n['1', '3', '2']\n['2', '1', '3']\n['2', '3', '1']\n['3', '1', '2']\n['3', '2', '1']\n"
     ]
    }
   ],
   "source": [
    "def permutation(lst): \n",
    "  \n",
    "    # If lst is empty then there are no permutations \n",
    "    if len(lst) == 0: \n",
    "        return [] \n",
    "  \n",
    "    # If there is only one element in lst then, only \n",
    "    # one permuatation is possible \n",
    "    if len(lst) == 1: \n",
    "        return [lst] \n",
    "  \n",
    "    # Find the permutations for lst if there are \n",
    "    # more than 1 characters \n",
    "  \n",
    "    l = [] # empty list that will store current permutation \n",
    "  \n",
    "    # Iterate the input(lst) and calculate the permutation \n",
    "    for i in range(len(lst)): \n",
    "       m = lst[i] \n",
    "  \n",
    "       # Extract lst[i] or m from the list.  remLst is \n",
    "       # remaining list \n",
    "       remLst = lst[:i] + lst[i+1:] \n",
    "  \n",
    "       # Generating all permutations where m is first \n",
    "       # element \n",
    "       for p in permutation(remLst): \n",
    "           l.append([m] + p) \n",
    "    return l \n",
    "  \n",
    "  \n",
    "# Driver program to test above function \n",
    "data = list('123') \n",
    "for p in permutation(data): \n",
    "    print(p) "
   ]
  },
  {
   "cell_type": "code",
   "execution_count": null,
   "metadata": {},
   "outputs": [],
   "source": [
    "There are two approaches you can take in recursion. Bottom up or top down"
   ]
  },
  {
   "cell_type": "code",
   "execution_count": 55,
   "metadata": {},
   "outputs": [],
   "source": [
    "#power set solution from Suboptimal Engineer on youtube\n",
    "class Solution(object):\n",
    "    def subsets(self, nums):\n",
    "        \"\"\"\n",
    "        :type nums: List[int]\n",
    "        :rtype: List[List[int]]\n",
    "        \"\"\"\n",
    "        sol = []\n",
    "        self.helper(nums, sol, [], 0)\n",
    "        return sol\n",
    "\n",
    "    def helper(self, nums, sol, curr, index):\n",
    "        print(curr, index)\n",
    "        sol.append(list(curr))\n",
    "        for i in range(index, len(nums)):\n",
    "            curr.append(nums[i])\n",
    "            self.helper(nums, sol, curr, i + 1)\n",
    "            print('here')\n",
    "            curr.pop()"
   ]
  },
  {
   "cell_type": "code",
   "execution_count": 56,
   "metadata": {},
   "outputs": [
    {
     "output_type": "stream",
     "name": "stdout",
     "text": [
      "[] 0\n[1] 1\n[1, 2] 2\n[1, 2, 3] 3\nhere\nhere\n[1, 3] 3\nhere\nhere\n[2] 2\n[2, 3] 3\nhere\nhere\n[3] 3\nhere\n"
     ]
    },
    {
     "output_type": "execute_result",
     "data": {
      "text/plain": [
       "[[], [1], [1, 2], [1, 2, 3], [1, 3], [2], [2, 3], [3]]"
      ]
     },
     "metadata": {},
     "execution_count": 56
    }
   ],
   "source": [
    "sol = Solution()\n",
    "sol.subsets([1,2,3])"
   ]
  },
  {
   "cell_type": "code",
   "execution_count": 97,
   "metadata": {},
   "outputs": [],
   "source": [
    "#Find k subsets of an n-lenght array of integers from EPI 15.5\n",
    "def combinations(n,k):\n",
    "    def d_c(offset, p_c): #p_c is partial combination\n",
    "        if len(p_c) == k:\n",
    "            result.append(list(p_c))\n",
    "            return\n",
    "        #everything before #here will be skipped if the 'if' condition is met\n",
    "        num_rem = k - len(p_c)\n",
    "        i = offset\n",
    "        while i <= n and num_rem <= n - i + 1:\n",
    "            print('before', offset, p_c, i)\n",
    "            d_c(i + 1, p_c + [i])\n",
    "            #here\n",
    "            print('after', offset, p_c, i)\n",
    "            i += 1\n",
    "    result = []\n",
    "    d_c(1, [])\n",
    "    return result"
   ]
  },
  {
   "cell_type": "code",
   "execution_count": 99,
   "metadata": {},
   "outputs": [
    {
     "output_type": "stream",
     "name": "stdout",
     "text": [
      "before 1 [] 1\nbefore 2 [1] 2\nafter 2 [1] 2\nbefore 2 [1] 3\nafter 2 [1] 3\nbefore 2 [1] 4\nafter 2 [1] 4\nafter 1 [] 1\nbefore 1 [] 2\nbefore 3 [2] 3\nafter 3 [2] 3\nbefore 3 [2] 4\nafter 3 [2] 4\nafter 1 [] 2\nbefore 1 [] 3\nbefore 4 [3] 4\nafter 4 [3] 4\nafter 1 [] 3\n"
     ]
    },
    {
     "output_type": "execute_result",
     "data": {
      "text/plain": [
       "[[1, 2], [1, 3], [1, 4], [2, 3], [2, 4], [3, 4]]"
      ]
     },
     "metadata": {},
     "execution_count": 99
    }
   ],
   "source": [
    "combinations(4,2)\n"
   ]
  },
  {
   "cell_type": "code",
   "execution_count": 81,
   "metadata": {},
   "outputs": [
    {
     "output_type": "execute_result",
     "data": {
      "text/plain": [
       "[[1, 2, 3],\n",
       " [1, 2, 4],\n",
       " [1, 2, 5],\n",
       " [1, 3, 4],\n",
       " [1, 3, 5],\n",
       " [1, 4, 5],\n",
       " [2, 3, 4],\n",
       " [2, 3, 5],\n",
       " [2, 4, 5],\n",
       " [3, 4, 5]]"
      ]
     },
     "metadata": {},
     "execution_count": 81
    }
   ],
   "source": [
    "combinations(5,3)"
   ]
  },
  {
   "cell_type": "code",
   "execution_count": null,
   "metadata": {},
   "outputs": [],
   "source": [
    "#Solution to Leetcode problem 77\n",
    "class Solution:\n",
    "    def combine(self, n: int, k: int) -> List[List[int]]:\n",
    "        self.n = n\n",
    "        self.k = k\n",
    "        def helper(self, offset, curr):\n",
    "            if len(curr) == k:\n",
    "                result.append(list(curr))\n",
    "                return\n",
    "            remainder = k - len(curr)\n",
    "            i = offset\n",
    "            while i <= n and remainder <=n:\n",
    "                helper(self,i + 1, curr + [i])\n",
    "                i += 1\n",
    "        result = []\n",
    "        helper(self, 1, [])\n",
    "        return result"
   ]
  },
  {
   "cell_type": "code",
   "execution_count": 130,
   "metadata": {},
   "outputs": [],
   "source": [
    " phone = {\n",
    "            '2': 'abc',\n",
    "            '3': 'def',\n",
    "            '4': 'ghi',\n",
    "            '5': 'jkl',\n",
    "            '6': 'mno',\n",
    "            '7': 'pqrs',\n",
    "            '8': 'tuv',\n",
    "            '9': 'wxyz'         \n",
    "        }\n",
    "def letters(digits):\n",
    "    pool = []\n",
    "    if(len(digits) == 0):\n",
    "        return \n",
    "    for i in digits:\n",
    "        pool += phone[i]\n",
    "    return pool\n"
   ]
  },
  {
   "cell_type": "code",
   "execution_count": 131,
   "metadata": {},
   "outputs": [
    {
     "output_type": "execute_result",
     "data": {
      "text/plain": [
       "['a', 'b', 'c', 'd', 'e', 'f']"
      ]
     },
     "metadata": {},
     "execution_count": 131
    }
   ],
   "source": [
    "        letters('23')"
   ]
  },
  {
   "cell_type": "code",
   "execution_count": 106,
   "metadata": {},
   "outputs": [],
   "source": [
    " def letters(digits):\n",
    "            pool = []\n",
    "            if(len(digits) == 0):\n",
    "                return \n",
    "            for i in digits:\n",
    "                pool += phone[i]\n",
    "            return pool"
   ]
  },
  {
   "cell_type": "code",
   "execution_count": 107,
   "metadata": {},
   "outputs": [
    {
     "output_type": "execute_result",
     "data": {
      "text/plain": [
       "['a', 'b', 'c', 'd', 'e', 'f']"
      ]
     },
     "metadata": {},
     "execution_count": 107
    }
   ],
   "source": [
    "letters('23')"
   ]
  },
  {
   "cell_type": "code",
   "execution_count": 103,
   "metadata": {},
   "outputs": [
    {
     "output_type": "execute_result",
     "data": {
      "text/plain": [
       "'c'"
      ]
     },
     "metadata": {},
     "execution_count": 103
    }
   ],
   "source": [
    "KeyError: 1\n",
    "    helper(self, i + 1, curr + phone[i])\n",
    "Line 30 in helper (Solution.py)\n",
    "    helper(self, 1, \"\")\n",
    "Line 33 in letterCombinations (Solution.py)\n",
    "    ret = Solution().letterCombinations(param_1)\n",
    "Line 53 in _driver (Solution.py)\n",
    "    _driver()\n",
    "Line 64 in <module> (Solution.py)"
   ]
  },
  {
   "cell_type": "code",
   "execution_count": 125,
   "metadata": {},
   "outputs": [],
   "source": [
    "def letterCombinations(digits: str):\n",
    "    phone = {\n",
    "        '2': 'abc',\n",
    "        '3': 'def',\n",
    "        '4': 'ghi',\n",
    "        '5': 'jkl',\n",
    "        '6': 'mno',\n",
    "        '7': 'pqrs',\n",
    "        '8': 'tuv',\n",
    "        '9': 'wxyz'         \n",
    "    }\n",
    "    #self.digits = digits\n",
    "    def letters(digits):\n",
    "        pool = \"\"\n",
    "        if(len(digits) == 0):\n",
    "            return \n",
    "        for i in digits:\n",
    "            if i in phone.keys():\n",
    "                pool += phone[i]\n",
    "            else:\n",
    "                return []\n",
    "        return pool\n",
    "    pool = letters(digits)\n",
    "    n = len(pool)\n",
    "    k = len(digits)\n",
    "    def helper(offset, curr):\n",
    "        if len(curr) == k:\n",
    "            result.append(curr)\n",
    "            return\n",
    "        remainder = k - len(curr)\n",
    "        i = offset\n",
    "        while i <= n and remainder <= n -i + 1:\n",
    "            if n >= i + 1:\n",
    "                helper(i + 1, curr + pool[i])\n",
    "            \n",
    "            i += 1\n",
    "    result = []\n",
    "    helper(0, \"\")\n",
    "    return result"
   ]
  },
  {
   "cell_type": "code",
   "execution_count": 126,
   "metadata": {},
   "outputs": [
    {
     "output_type": "execute_result",
     "data": {
      "text/plain": [
       "['ab',\n",
       " 'ac',\n",
       " 'ad',\n",
       " 'ae',\n",
       " 'af',\n",
       " 'bc',\n",
       " 'bd',\n",
       " 'be',\n",
       " 'bf',\n",
       " 'cd',\n",
       " 'ce',\n",
       " 'cf',\n",
       " 'de',\n",
       " 'df',\n",
       " 'ef']"
      ]
     },
     "metadata": {},
     "execution_count": 126
    }
   ],
   "source": [
    "letterCombinations(\"23\")"
   ]
  },
  {
   "cell_type": "code",
   "execution_count": null,
   "metadata": {},
   "outputs": [],
   "source": [
    "#Ikenna's solution\n",
    "class Solution:\n",
    "    def letterCombinations(self, digits: str) -> List[str]:\n",
    "        phone ={\n",
    "            '2': 'abc',\n",
    "            '3': 'def',\n",
    "            '4': 'ghi',\n",
    "            '5': 'jkl',\n",
    "            '6': 'mno',\n",
    "            '7': 'pqrs',\n",
    "            '8': 'tuv',\n",
    "            '9': 'wxyz'         \n",
    "        }\n",
    "        self.digits = digits\n",
    "        def letters(self, digits):\n",
    "            pool = []\n",
    "            if(len(digits) == 0):\n",
    "                return \n",
    "            for i in digits:\n",
    "                pool += phone[i]\n",
    "            return pool\n",
    "        self.pool = letters(self,digits)\n",
    "        self.n = len(self.pool)\n",
    "        self.k = len(digits)\n",
    "        def helper(self, offset, curr):\n",
    "            if len(curr) == self.k:\n",
    "                result.append(curr)\n",
    "                return\n",
    "            remainder = self.k - len(curr)\n",
    "            i = offset\n",
    "            while i <= self.n and remainder <= self.n -i + 1:\n",
    "                helper(self, i + 1, curr + self.pool[i])\n",
    "                i += 1\n",
    "        result = []\n",
    "        helper(self, 0, \"\")\n",
    "        return result"
   ]
  },
  {
   "cell_type": "code",
   "execution_count": null,
   "metadata": {},
   "outputs": [],
   "source": [
    "#Accepted solution for hackerank fibonacci question\n",
    "def fibonacci(n):\n",
    "\n",
    "    # Write your code here.\n",
    "    #do fibonacci up to n+1\n",
    "    result = []\n",
    "    def fibonacci_helper(num):\n",
    "        if num == 0:\n",
    "            return 0\n",
    "        if num == 1:\n",
    "            return 1\n",
    "        return fibonacci_helper(num - 1) + fibonacci_helper(num - 2)\n",
    "    \n",
    "    for i in range(n + 1):\n",
    "        result.append(fibonacci_helper(i))    \n",
    "    return result[n]\n",
    "\n",
    "n = int(input())\n",
    "print(fibonacci(n))"
   ]
  },
  {
   "cell_type": "code",
   "execution_count": null,
   "metadata": {},
   "outputs": [],
   "source": [
    "#code to find if a string is a palindrome\n",
    "def isPalindrome(s):\n",
    "    def toChars(s):\n",
    "        s = s.lower()\n",
    "        ans = ''\n",
    "        for c in s:\n",
    "            if c in 'abcdefghijklmnopqrstuvwxyz':\n",
    "                ans = ans + c\n",
    "        return ans  \n",
    "    def isPal(s):\n",
    "        if len(s) <= 1:\n",
    "            return True\n",
    "        else: \n",
    "            return s[0] == s[-1] and isPal(s[1:-1])\n",
    "    return isPal(toChars(s))"
   ]
  }
 ]
}
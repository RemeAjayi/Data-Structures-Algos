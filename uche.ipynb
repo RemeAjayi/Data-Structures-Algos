{
 "cells": [
  {
   "cell_type": "code",
   "execution_count": null,
   "metadata": {},
   "outputs": [],
   "source": [
    "N must be even \n",
    "elements of N can be negative or positive\n",
    "N is up to 1m\n",
    "\n",
    "to have equal pairs every elem must occur an even number of times \n",
    "\n",
    "1 2 2 3\n",
    "1 2 3 \n",
    "\n",
    "1 1 1 2 \n",
    "\n",
    "1 2\n",
    "\n"
   ]
  },
  {
   "cell_type": "code",
   "execution_count": 22,
   "metadata": {},
   "outputs": [],
   "source": [
    "A = [1, 2, 2, 3]\n",
    "from collections import defaultdict\n",
    "\n",
    "def solution(A):\n",
    "    if len(A) % 2 != 0:\n",
    "        print(len(A))\n",
    "        return False\n",
    "\n",
    "    frequencies = defaultdict(int)\n",
    "\n",
    "    for curr in A:\n",
    "        frequencies[curr] += 1\n",
    "    print(frequencies)\n",
    "\n",
    "    for key, value in frequencies.items():\n",
    "        if value % 2 != 0:\n",
    "            return False\n",
    " \n",
    "\n",
    "    return True"
   ]
  },
  {
   "cell_type": "code",
   "execution_count": 24,
   "metadata": {},
   "outputs": [
    {
     "name": "stdout",
     "output_type": "stream",
     "text": [
      "3\n"
     ]
    },
    {
     "data": {
      "text/plain": "False"
     },
     "execution_count": 24,
     "metadata": {},
     "output_type": "execute_result"
    }
   ],
   "source": [
    "solution([1,2,1])"
   ]
  },
  {
   "cell_type": "code",
   "execution_count": null,
   "metadata": {},
   "outputs": [],
   "source": [
    "def find_min(A):\n",
    "    ans = 0\n",
    "    for i in range(1, len(A)):\n",
    "        if A[i] < ans: \n",
    "            ans = A[i]\n",
    "    return ans"
   ]
  },
  {
   "cell_type": "code",
   "execution_count": 25,
   "metadata": {},
   "outputs": [
    {
     "name": "stdout",
     "output_type": "stream",
     "text": [
      "4\n"
     ]
    }
   ],
   "source": [
    " # Python3 program to find the count of\n",
    "# all unique sub-strings with\n",
    "# non-repeating characters\n",
    "\n",
    "# Function to count all unique\n",
    "# distinct character substrings\n",
    "def distinctSubstring(P, N):\n",
    "\t\n",
    "\t# Hashmap to store all substrings\n",
    "\tS = dict()\n",
    "\n",
    "\t# Iterate over all the substrings\n",
    "\tfor i in range(N):\n",
    "\n",
    "\t\t# Boolean array to maintain all\n",
    "\t\t# characters encountered so far\n",
    "\t\tfreq = [False]*26\n",
    "\n",
    "\t\t# Variable to maintain the\n",
    "\t\t# subtill current position\n",
    "\t\ts = \"\"\n",
    "\n",
    "\t\tfor j in range(i,N):\n",
    "\n",
    "\t\t\t# Get the position of the\n",
    "\t\t\t# character in the string\n",
    "\t\t\tpos = ord(P[j]) - ord('a')\n",
    "\n",
    "\t\t\t# Check if the character is\n",
    "\t\t\t# encountred\n",
    "\t\t\tif (freq[pos] == True):\n",
    "\t\t\t\tbreak\n",
    "\n",
    "\t\t\tfreq[pos] = True\n",
    "\n",
    "\t\t\t# Add the current character\n",
    "\t\t\t# to the substring\n",
    "\t\t\ts += P[j]\n",
    "\n",
    "\t\t\t# Insert subin Hashmap\n",
    "\t\t\tS[s] = 1\n",
    "\n",
    "\treturn len(S)\n",
    "\n",
    "# Driver code\n",
    "S = \"abba\"\n",
    "N = len(S)\n",
    "\n",
    "print(distinctSubstring(S, N))\n",
    "\n",
    "# This code is contributed by mohit kumar 29\n"
   ]
  },
  {
   "cell_type": "code",
   "execution_count": null,
   "metadata": {},
   "outputs": [],
   "source": [
    "def solution(S):\n",
    "    chars = S.split()\n",
    "    #no unique characters\n",
    "    if len(set(chars)) == len(chars):\n",
    "        return 1\n",
    "    sorted_chars = sorted(chars)\n"
   ]
  },
  {
   "cell_type": "code",
   "execution_count": null,
   "metadata": {},
   "outputs": [],
   "source": [
    "private int splitSring(String S) {\n",
    "\t\tif(S == null || S.length() == 0) {\n",
    "\t\t\treturn 0;\n",
    "\t\t}\n",
    "\t\tSet<Character> set = new HashSet<>();\n",
    "\t\tint count = 1;\n",
    "\t\tfor(char c : S.toCharArray()) {\n",
    "\t\t\tif(!set.add(c)) {\n",
    "\t\t\t\tset.clear();\n",
    "\t\t\t\tset.add(c);\n",
    "\t\t\t\tcount++;\n",
    "\t\t\t}\n",
    "\t\t}\n",
    "\t\treturn count;\n",
    "}"
   ]
  },
  {
   "cell_type": "code",
   "execution_count": 39,
   "metadata": {},
   "outputs": [],
   "source": [
    "def solution(S):\n",
    "    if(len(S) == 0 or S == \"\"):\n",
    "        return 0\n",
    "\n",
    "    count = 1\n",
    "    chars = list(S)\n",
    "\n",
    "    for c in chars:\n",
    "        if(not set.add(ord(c))):\n",
    "            set.clear();\n",
    "            set.add(ord(c));\n",
    "            count = count + 1\n",
    "\n",
    "    return count"
   ]
  },
  {
   "cell_type": "code",
   "execution_count": 40,
   "metadata": {},
   "outputs": [
    {
     "ename": "TypeError",
     "evalue": "descriptor 'add' for 'set' objects doesn't apply to a 'int' object",
     "output_type": "error",
     "traceback": [
      "\u001b[0;31m---------------------------------------------------------------------------\u001b[0m",
      "\u001b[0;31mTypeError\u001b[0m                                 Traceback (most recent call last)",
      "\u001b[0;32m/var/folders/xg/x9dp1h1x32q36fc2kpxyxd180000gn/T/ipykernel_68202/3258344327.py\u001b[0m in \u001b[0;36m<module>\u001b[0;34m\u001b[0m\n\u001b[0;32m----> 1\u001b[0;31m \u001b[0msolution\u001b[0m\u001b[0;34m(\u001b[0m\u001b[0;34m\"cycle\"\u001b[0m\u001b[0;34m)\u001b[0m\u001b[0;34m\u001b[0m\u001b[0;34m\u001b[0m\u001b[0m\n\u001b[0m",
      "\u001b[0;32m/var/folders/xg/x9dp1h1x32q36fc2kpxyxd180000gn/T/ipykernel_68202/929826820.py\u001b[0m in \u001b[0;36msolution\u001b[0;34m(S)\u001b[0m\n\u001b[1;32m      7\u001b[0m \u001b[0;34m\u001b[0m\u001b[0m\n\u001b[1;32m      8\u001b[0m     \u001b[0;32mfor\u001b[0m \u001b[0mc\u001b[0m \u001b[0;32min\u001b[0m \u001b[0mchars\u001b[0m\u001b[0;34m:\u001b[0m\u001b[0;34m\u001b[0m\u001b[0;34m\u001b[0m\u001b[0m\n\u001b[0;32m----> 9\u001b[0;31m         \u001b[0;32mif\u001b[0m\u001b[0;34m(\u001b[0m\u001b[0;32mnot\u001b[0m \u001b[0mset\u001b[0m\u001b[0;34m.\u001b[0m\u001b[0madd\u001b[0m\u001b[0;34m(\u001b[0m\u001b[0mord\u001b[0m\u001b[0;34m(\u001b[0m\u001b[0mc\u001b[0m\u001b[0;34m)\u001b[0m\u001b[0;34m)\u001b[0m\u001b[0;34m)\u001b[0m\u001b[0;34m:\u001b[0m\u001b[0;34m\u001b[0m\u001b[0;34m\u001b[0m\u001b[0m\n\u001b[0m\u001b[1;32m     10\u001b[0m             \u001b[0mset\u001b[0m\u001b[0;34m.\u001b[0m\u001b[0mclear\u001b[0m\u001b[0;34m(\u001b[0m\u001b[0;34m)\u001b[0m\u001b[0;34m;\u001b[0m\u001b[0;34m\u001b[0m\u001b[0;34m\u001b[0m\u001b[0m\n\u001b[1;32m     11\u001b[0m             \u001b[0mset\u001b[0m\u001b[0;34m.\u001b[0m\u001b[0madd\u001b[0m\u001b[0;34m(\u001b[0m\u001b[0mord\u001b[0m\u001b[0;34m(\u001b[0m\u001b[0mc\u001b[0m\u001b[0;34m)\u001b[0m\u001b[0;34m)\u001b[0m\u001b[0;34m;\u001b[0m\u001b[0;34m\u001b[0m\u001b[0;34m\u001b[0m\u001b[0m\n",
      "\u001b[0;31mTypeError\u001b[0m: descriptor 'add' for 'set' objects doesn't apply to a 'int' object"
     ]
    }
   ],
   "source": [
    "solution(\"cycle\")"
   ]
  }
 ],
 "metadata": {
  "kernelspec": {
   "display_name": "Python 3.8.10 64-bit ('tf24_1': conda)",
   "metadata": {
    "interpreter": {
     "hash": "75caae79a24cd3ab0bee34111fe82f35748e15ef5a42fee985bf2794860b13d7"
    }
   },
   "name": "python3"
  },
  "language_info": {
   "codemirror_mode": {
    "name": "ipython",
    "version": 3
   },
   "file_extension": ".py",
   "mimetype": "text/x-python",
   "name": "python",
   "nbconvert_exporter": "python",
   "pygments_lexer": "ipython3",
   "version": "3.8.10"
  },
  "orig_nbformat": 2
 },
 "nbformat": 4,
 "nbformat_minor": 2
}
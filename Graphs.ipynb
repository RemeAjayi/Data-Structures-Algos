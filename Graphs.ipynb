{
 "metadata": {
  "language_info": {
   "codemirror_mode": {
    "name": "ipython",
    "version": 3
   },
   "file_extension": ".py",
   "mimetype": "text/x-python",
   "name": "python",
   "nbconvert_exporter": "python",
   "pygments_lexer": "ipython3",
   "version": "3.8.8"
  },
  "orig_nbformat": 2,
  "kernelspec": {
   "name": "python3",
   "display_name": "Python 3.8.8 64-bit (conda)",
   "metadata": {
    "interpreter": {
     "hash": "9f6d7177b33f2b403201d2c46876f485ae8d460ff7aabdfb154fd3fce15ea42e"
    }
   }
  }
 },
 "nbformat": 4,
 "nbformat_minor": 2,
 "cells": [
  {
   "source": [
    "Graph representations\n",
    "- Adjacency matrices have V^2 space complexity. \n",
    "- Adjacency lists\n",
    "- Edge lists\n",
    "\n",
    "Connectivity\n",
    "Shortest path problems\n",
    "graph representation in python\n",
    "BFS and DFS\n",
    "\n",
    "Stop @ topological sort\n",
    "\n",
    "Time complexity of DFS and BFS are both O(V+E) while space complexity is O(V)"
   ],
   "cell_type": "markdown",
   "metadata": {}
  },
  {
   "cell_type": "code",
   "execution_count": null,
   "metadata": {},
   "outputs": [],
   "source": [
    "#code & memorise BFS & DFS\n",
    "#Graph leetcode solutions on youtube\n",
    "#BE blogpost readings"
   ]
  },
  {
   "source": [
    "Resource - https://www.youtube.com/watch?v=pcKY4hjDrxk\n",
    "\n",
    "In Breadth First Search\n",
    "- Pick an initial vertex\n",
    "- Explore all adjacent vertices\n",
    "- Move to another vertex not already visited\n",
    "- Explore all adjacent vertices until all vertices are visited\n",
    "\n",
    "In Depth First Search\n",
    "- Pick an initial vertex\n",
    "- Explore a vertex adjacent to it\n",
    "- Start exploring the new current vertex\n",
    "- Once you hit a new vertex, ignore previous vertex and start exploring that\n",
    "- Continue until all vertices are explored "
   ],
   "cell_type": "markdown",
   "metadata": {}
  },
  {
   "cell_type": "code",
   "execution_count": 2,
   "metadata": {},
   "outputs": [
    {
     "output_type": "stream",
     "name": "stdout",
     "text": [
      "A\nB\nD\nE\nF\nC\n"
     ]
    }
   ],
   "source": [
    "#Depth First Search in Python\n",
    "#Adapted from educative.io\n",
    "# Using a Python dictionary to act as an adjacency list\n",
    "graph = {\n",
    "    'A' : ['B','C'],\n",
    "    'B' : ['D', 'E'],\n",
    "    'C' : ['F'],\n",
    "    'D' : [],\n",
    "    'E' : ['F'],\n",
    "    'F' : []\n",
    "}\n",
    "\n",
    "visited = set() # Set to keep track of visited nodes.\n",
    "\n",
    "def dfs(visited, graph, node):\n",
    "    if node not in visited:\n",
    "        print (node)\n",
    "        visited.add(node)\n",
    "        for neighbour in graph[node]:\n",
    "            dfs(visited, graph, neighbour)\n",
    "\n",
    "# Driver Code\n",
    "dfs(visited, graph, 'A')"
   ]
  },
  {
   "cell_type": "code",
   "execution_count": 6,
   "metadata": {},
   "outputs": [],
   "source": [
    "dfs(visited, graph, 'C')"
   ]
  },
  {
   "cell_type": "code",
   "execution_count": null,
   "metadata": {},
   "outputs": [],
   "source": [
    "#Breadth First Search in python\n",
    "#Adapted from educative.io\n",
    "# Using a Python dictionary to act as an adjacency list\n",
    "graph = {\n",
    "  'A' : ['B','C'],\n",
    "  'B' : ['D', 'E'],\n",
    "  'C' : ['F'],\n",
    "  'D' : [],\n",
    "  'E' : ['F'],\n",
    "  'F' : []\n",
    "}\n",
    "\n",
    "visited = [] # List to keep track of visited nodes.\n",
    "queue = []     #Initialize a queue\n",
    "\n",
    "def bfs(visited, graph, node):\n",
    "  visited.append(node)\n",
    "  queue.append(node)\n",
    "\n",
    "  while queue:\n",
    "    s = queue.pop(0) \n",
    "    print (s, end = \" \") \n",
    "\n",
    "    for neighbour in graph[s]:\n",
    "      if neighbour not in visited:\n",
    "        visited.append(neighbour)\n",
    "        queue.append(neighbour)\n",
    "\n",
    "# Driver Code\n",
    "bfs(visited, graph, 'A')"
   ]
  },
  {
   "source": [
    "A directed graph is also a tree. The edges move in one direction.\n",
    "An undirectional graph has bidirectional edges. \n",
    "Breadth first search is used for (and better at) finding shortest path\n",
    "Depth first search is used for finding cycles. \n",
    "Write Code to:\n",
    "- Implementation of undirected graphs in adjacency lists.\n",
    "- Actually finding something with BFS & DFS, they're used for more than just traversals\n",
    "- Ensure that your implementations are fail proof\n",
    "- Write unit tests for your Implementations"
   ],
   "cell_type": "markdown",
   "metadata": {}
  }
 ]
}
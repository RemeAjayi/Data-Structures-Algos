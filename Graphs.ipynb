{
 "cells": [
  {
   "cell_type": "markdown",
   "metadata": {},
   "source": [
    "Graph representations\n",
    "- Adjacency matrices have V^2 space complexity. \n",
    "- Adjacency lists\n",
    "- Edge lists\n",
    "\n",
    "Connectivity\n",
    "Shortest path problems\n",
    "graph representation in python\n",
    "BFS and DFS\n",
    "\n",
    "Stop @ topological sort\n",
    "\n",
    "Time complexity of DFS and BFS are both O(V+E) while space complexity is O(V)"
   ]
  },
  {
   "cell_type": "code",
   "execution_count": null,
   "metadata": {},
   "outputs": [],
   "source": [
    "#code & memorise BFS & DFS\n",
    "#Graph leetcode solutions on youtube\n",
    "#BE blogpost readings"
   ]
  },
  {
   "cell_type": "markdown",
   "metadata": {},
   "source": [
    "Resource - https://www.youtube.com/watch?v=pcKY4hjDrxk\n",
    "\n",
    "In Breadth First Search\n",
    "- Pick an initial vertex\n",
    "- Explore all adjacent vertices\n",
    "- Move to another vertex not already visited\n",
    "- Explore all adjacent vertices until all vertices are visited\n",
    "\n",
    "In Depth First Search\n",
    "- Pick an initial vertex\n",
    "- Explore a vertex adjacent to it\n",
    "- Start exploring the new current vertex\n",
    "- Once you hit a new vertex, ignore previous vertex and start exploring that\n",
    "- Continue until all vertices are explored \n",
    "\n",
    "\"The strategy followed by depth-first search is, as its name implies, to search\n",
    "“deeper” in the graph whenever possible. Depth-first search explores edges out\n",
    "of the most recently discovered vertex   that still has unexplored edges leaving it.\n",
    "Once all of  ’s edges have been explored, the search “backtracks” to explore edges\n",
    "leaving the vertex from which   was discovered.\" - Introduction to Algorithms, 3rd Edition\n",
    "\n",
    "\n",
    "Application of DFS\n",
    "\n",
    "Cycle Detection\n",
    "Topological Sorting\n",
    "Strongly Connected Components\n",
    "Path Finding\n",
    "Solving Maze and Similar Puzzles\n"
   ]
  },
  {
   "cell_type": "markdown",
   "metadata": {},
   "source": [
    "In both search algorithms you color or mark visited vertices. \n",
    "For DFS\n",
    "You can use a visited array, when you visit change that index to 1 and add the element to a stack \n",
    "When all nodes connected to a node are visited you pop that node from the stack and backtrack to another node\n",
    "Repeat until all elements are popped from the stack "
   ]
  },
  {
   "cell_type": "code",
   "execution_count": 5,
   "metadata": {},
   "outputs": [],
   "source": [
    "class TreeNode:\n",
    "    def __init__(self, val=0, left=None, right=None):\n",
    "        self.val = val\n",
    "        self.left = left\n",
    "        self.right = right"
   ]
  },
  {
   "cell_type": "code",
   "execution_count": 7,
   "metadata": {},
   "outputs": [
    {
     "name": "stdout",
     "output_type": "stream",
     "text": [
      "<__main__.TreeNode object at 0x1087541f0>\n"
     ]
    }
   ],
   "source": [
    "#find a better binary tree build function from array\n",
    "root = TreeNode(3)\n",
    "root.left = TreeNode(9)\n",
    "root.right = TreeNode(20)\n",
    "root.right.left = TreeNode(15)\n",
    "root.right.right = TreeNode(7)\n"
   ]
  },
  {
   "cell_type": "code",
   "execution_count": 12,
   "metadata": {},
   "outputs": [
    {
     "name": "stdout",
     "output_type": "stream",
     "text": [
      "3\n",
      "9\n",
      "20\n",
      "15\n",
      "7\n"
     ]
    }
   ],
   "source": [
    "#iterative DFS\n",
    "#what is my complexity\n",
    "#method from howCode on youtube\n",
    "def dfs_i(root:TreeNode, stack: list):\n",
    "    stack.append(root) #add root node\n",
    "    while len(stack) > 0: #check if stack is empty\n",
    "        node = stack.pop() #store node just added \n",
    "        if node: #check if node is empty\n",
    "            print(node.val) #print node\n",
    "            stack.append(node.right) #add left and right children of node\n",
    "            stack.append(node.left) #none will be added if these children do not exist\n",
    "\n",
    "dfs_i(root, [])"
   ]
  },
  {
   "cell_type": "markdown",
   "metadata": {},
   "source": [
    "**Pseudocode for iterative DFS**\n",
    "\n",
    "\n",
    "Use the treenode class definition\n",
    "build tree manually if you need to \n",
    "add root node to stack\n",
    "while stack is not empty\n",
    "print the value of node\n",
    "add left and right children of node\n"
   ]
  },
  {
   "cell_type": "code",
   "execution_count": 14,
   "metadata": {},
   "outputs": [
    {
     "name": "stdout",
     "output_type": "stream",
     "text": [
      "3\n",
      "9\n",
      "20\n",
      "15\n",
      "7\n"
     ]
    }
   ],
   "source": [
    "#recursive DFS\n",
    "#why am I slower than iterative way\n",
    "def dfs_r(root):\n",
    "    if root:\n",
    "        print(root.val)\n",
    "        dfs_r(root.left)\n",
    "        dfs_r(root.right)\n",
    "\n",
    "dfs_r(root)"
   ]
  },
  {
   "cell_type": "code",
   "execution_count": 2,
   "metadata": {},
   "outputs": [
    {
     "name": "stdout",
     "output_type": "stream",
     "text": [
      "A\n",
      "B\n",
      "D\n",
      "E\n",
      "F\n",
      "C\n"
     ]
    }
   ],
   "source": [
    "#Depth First Search in Python\n",
    "#Adapted from educative.io\n",
    "# Using a Python dictionary to act as an adjacency list\n",
    "graph = {\n",
    "    'A' : ['B','C'],\n",
    "    'B' : ['D', 'E'],\n",
    "    'C' : ['F'],\n",
    "    'D' : [],\n",
    "    'E' : ['F'],\n",
    "    'F' : []\n",
    "}\n",
    "\n",
    "visited = set() # Set to keep track of visited nodes.\n",
    "\n",
    "def dfs(visited, graph, node):\n",
    "    if node not in visited:\n",
    "        print (node)\n",
    "        visited.add(node)\n",
    "        for neighbour in graph[node]:\n",
    "            dfs(visited, graph, neighbour)\n",
    "\n",
    "# Driver Code\n",
    "dfs(visited, graph, 'A')"
   ]
  },
  {
   "cell_type": "code",
   "execution_count": 4,
   "metadata": {},
   "outputs": [],
   "source": [
    "dfs(visited, graph, 'C')"
   ]
  },
  {
   "cell_type": "code",
   "execution_count": null,
   "metadata": {},
   "outputs": [],
   "source": [
    "#Breadth First Search in python\n",
    "#Adapted from educative.io\n",
    "# Using a Python dictionary to act as an adjacency list\n",
    "graph = {\n",
    "  'A' : ['B','C'],\n",
    "  'B' : ['D', 'E'],\n",
    "  'C' : ['F'],\n",
    "  'D' : [],\n",
    "  'E' : ['F'],\n",
    "  'F' : []\n",
    "}\n",
    "\n",
    "visited = [] # List to keep track of visited nodes.\n",
    "queue = []     #Initialize a queue\n",
    "\n",
    "def bfs(visited, graph, node):\n",
    "  visited.append(node)\n",
    "  queue.append(node)\n",
    "\n",
    "  while queue:\n",
    "    s = queue.pop(0) \n",
    "    print (s, end = \" \") \n",
    "\n",
    "    for neighbour in graph[s]:\n",
    "      if neighbour not in visited:\n",
    "        visited.append(neighbour)\n",
    "        queue.append(neighbour)\n",
    "\n",
    "# Driver Code\n",
    "bfs(visited, graph, 'A')"
   ]
  },
  {
   "cell_type": "markdown",
   "metadata": {},
   "source": [
    "The edges move in one direction.\n",
    "An undirectional graph has bidirectional edges. \n",
    "Breadth first search is used for (and better at) finding shortest path\n",
    "Depth first search is used for finding cycles. \n",
    "Breadth First Search uses queues and Depth First search uses stacks. Trees are undirected graphs.\n",
    "Write Code to:\n",
    "- Implementation of undirected graphs in adjacency lists.\n",
    "- Actually finding something with BFS & DFS, they're used for more than just traversals\n",
    "- Ensure that your implementations are fail proof\n",
    "- Write unit tests for your Implementations"
   ]
  }
 ],
 "metadata": {
  "kernelspec": {
   "display_name": "Python 3 (ipykernel)",
   "language": "python",
   "name": "python3"
  },
  "language_info": {
   "codemirror_mode": {
    "name": "ipython",
    "version": 3
   },
   "file_extension": ".py",
   "mimetype": "text/x-python",
   "name": "python",
   "nbconvert_exporter": "python",
   "pygments_lexer": "ipython3",
   "version": "3.8.10"
  },
  "orig_nbformat": 2
 },
 "nbformat": 4,
 "nbformat_minor": 2
}
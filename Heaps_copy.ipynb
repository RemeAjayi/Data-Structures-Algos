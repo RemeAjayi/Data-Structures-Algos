{
 "cells": [
  {
   "cell_type": "markdown",
   "metadata": {},
   "source": [
    "Heaps are a special type of binary tree. A complete binary tree has the leaves on every level filled. An almost complete binary tree is filled from left to right and leaves should be present only at the last and 2nd leaf. A complete tree is a perfect binary tree or an almost complete binary tree. We have min heaps and max heaps. A max heap has the maximum element at the root node and same goes for sub trees. A min-heap is a complete binary tree in which the root is always the minimum and same goes for all sub trees. Other special heaps fibonacci, binomial and leftist heaps. \n",
    "\n",
    "Implementation of a heap \n",
    "Chapter 10 EPI run all the codes\n",
    "https://www.youtube.com/watch?v=rI2EBUEMfTk&ab_channel=NeetCode\n",
    "https://www.youtube.com/watch?v=YPTqKIgVk-k&ab_channel=NeetCode\n",
    "\n",
    "\n",
    "Heaps can be represented as arrays. The index of a heap node is an  array is 2l + h. Where l is the level in the heap and h is the height of that node. E.g a node at level 0 will have a height of 1. \n",
    "\n",
    "\n"
   ]
  },
  {
   "cell_type": "markdown",
   "metadata": {},
   "source": [
    "Heapify algorithm involves rearranging the heap by comparing each parent with its children recursively. \n",
    "\n",
    "Stopping conditions\n",
    "1. Reach a leaf\n",
    "2. Curr elem > L elem and Curr elem > R\n",
    "\n",
    "Heeap is not a primitive data structure it's usually implemented with something."
   ]
  },
  {
   "cell_type": "markdown",
   "metadata": {},
   "source": [
    "Max Heapify Algorithm for Array A with level i (Pseudocode)\n",
    "\n",
    "max_heapify(A, i){\n",
    "    L = 2 * i + 1\n",
    "    R = 2 * i + 2\n",
    "    if (L <= A.heap_size and A[L] > A[i])\n",
    "        largest = L\n",
    "    else\n",
    "        largest = i \n",
    "    if (R <= A.heap_size and A[R] > A[largest])\n",
    "        largest = R\n",
    "    if(largest != i)\n",
    "        swap(A[i], A[largest])\n",
    "        max_heapify(A, largest)\n",
    "}\n",
    "\n",
    "\n",
    "Time complexity and space complexity are O(log N)**\n"
   ]
  },
  {
   "cell_type": "code",
   "execution_count": null,
   "metadata": {},
   "outputs": [],
   "source": [
    "The time complexity to construct a heap is O(n)\n",
    "Time complexity of popping from a heap is O(log n) and pushing is also O(log n)\n",
    "Getting max element from max heap is O(1), as compared to O(n) for an Array\n",
    "likewise for min from a min heap \n",
    "Build Heap Algorithm from Array (Pseudocode)\n"
   ]
  },
  {
   "cell_type": "code",
   "execution_count": null,
   "metadata": {},
   "outputs": [],
   "source": [
    "#7\n"
   ]
  },
  {
   "cell_type": "code",
   "execution_count": null,
   "metadata": {},
   "outputs": [],
   "source": [
    "#8"
   ]
  },
  {
   "cell_type": "code",
   "execution_count": null,
   "metadata": {},
   "outputs": [],
   "source": [
    "#K closest points to origin\n",
    "Naive solution Time complexity O(Nlogn) \n",
    "Find all distances\n",
    "No need to find square root\n",
    "then sort and slice for K\n",
    "edge case if list is < k \n",
    "return all \n",
    "\n",
    "More optimal solution - Min heap \n",
    "x ** 2 means x to the power of two\n",
    "\n",
    "class Solution:\n",
    "    def kClosest(self, points: List[List[int]], k: int) -> List[List[int]]:\n",
    "        #store all distances and points\n",
    "        #create min heap \n",
    "        #append the popped value k times\n",
    "        #return \n",
    "        \n",
    "        pointsHeap = []\n",
    "        for x, y in points:\n",
    "            dist = x ** 2 + y ** 2\n",
    "            pointsHeap.append([dist, x , y])\n",
    "          \n",
    "        res = []\n",
    "        heapq.heapify(pointsHeap)\n",
    "        while k > 0:\n",
    "            dist, x, y = heapq.heappop(pointsHeap)\n",
    "            res.append([x, y])\n",
    "            k -= 1 \n",
    "            \n",
    "        return res"
   ]
  },
  {
   "cell_type": "code",
   "execution_count": 1,
   "metadata": {},
   "outputs": [
    {
     "name": "stdout",
     "output_type": "stream",
     "text": [
      "[[-4, 1, 5], [2, 5, 3], [6, 7, 1]]\n"
     ]
    }
   ],
   "source": [
    "nums = [[6, 7, 1], [-4, 1, 5], [2, 5, 3]]\n",
    "print(sorted(nums))"
   ]
  },
  {
   "cell_type": "code",
   "execution_count": null,
   "metadata": {},
   "outputs": [],
   "source": [
    "#find median\n",
    "TODO: Mon Jan 31 \n",
    " a leetcode heap problem & watch/study median of streaming data sol\n"
   ]
  },
  {
   "cell_type": "code",
   "execution_count": null,
   "metadata": {},
   "outputs": [],
   "source": [
    "#sliding window"
   ]
  }
 ],
 "metadata": {
  "kernelspec": {
   "display_name": "Python 3.8.10 64-bit ('tf24_1': conda)",
   "metadata": {
    "interpreter": {
     "hash": "75caae79a24cd3ab0bee34111fe82f35748e15ef5a42fee985bf2794860b13d7"
    }
   },
   "name": "python3"
  },
  "language_info": {
   "codemirror_mode": {
    "name": "ipython",
    "version": 3
   },
   "file_extension": ".py",
   "mimetype": "text/x-python",
   "name": "python",
   "nbconvert_exporter": "python",
   "pygments_lexer": "ipython3",
   "version": "3.8.10-final"
  },
  "orig_nbformat": 2
 },
 "nbformat": 4,
 "nbformat_minor": 2
}
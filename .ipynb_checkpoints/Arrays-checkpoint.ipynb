{
 "cells": [
  {
   "cell_type": "code",
   "execution_count": 28,
   "metadata": {},
   "outputs": [],
   "source": [
    "\"\"\"Write a program which takes as input an array of digits encoding a nonnegative decimal integer\n",
    "D and updates the array to represent the integer D + 1. For example, if the input is (1,2,9) then\n",
    "you should update the array to (1,3,0). Your algorithm should work even if it is implemented in a\n",
    "language that has finite-precision arithmetic.\"\"\"\n",
    "\n",
    "\n",
    "def plus_one (A) :\n",
    "    A[-1] += 1 #negative indices means count from right. a[-1] is last element of a. So this increments last elem of a\n",
    "    for i in reversed(range(1, len(A))): #starts looping from the last elem to elem at index 1\n",
    "        if A[i] != 10:\n",
    "            break\n",
    "        A[i] = 0\n",
    "        A[i - 1] += 1\n",
    "    if A[0] == 10:\n",
    "# There is a carry-out, so we need one more digit to store the resu-It\n",
    "# A slick way to do this is to append a 0 at the end of the array,\n",
    "# and update the fjrst entry to 1.\n",
    "      A[0] = 1\n",
    "      A.append(0) #adds an item to the end of a list\n",
    "    return A\n",
    "#i think the logic here is to ask yourself in what situations will i need to swap numbers like 9 for 0 and in what situation\n",
    "#will I need to append a new digit"
   ]
  },
  {
   "cell_type": "code",
   "execution_count": 29,
   "metadata": {},
   "outputs": [
    {
     "data": {
      "text/plain": [
       "[1, 0, 0, 0]"
      ]
     },
     "execution_count": 29,
     "metadata": {},
     "output_type": "execute_result"
    }
   ],
   "source": [
    "num = [9,9,9]\n",
    "plus_one(num)"
   ]
  },
  {
   "cell_type": "code",
   "execution_count": 22,
   "metadata": {},
   "outputs": [
    {
     "name": "stdout",
     "output_type": "stream",
     "text": [
      "9\n",
      "8\n"
     ]
    }
   ],
   "source": [
    "B = [7,8,9]\n",
    "for i in reversed(range(1,len(B))):\n",
    "    print(B[i])"
   ]
  },
  {
   "cell_type": "code",
   "execution_count": 31,
   "metadata": {},
   "outputs": [],
   "source": [
    "\"\"\"Write a program which takes as input two strings s and f of bits encodingbinary numbers\n",
    "Bs, and Bt, respectively, and refurns a new string of bits representing the number Bt, + Bs.\"\"\"\n",
    "\n",
    "def add_binary(s,t):\n",
    "    s_arr = [int(i) for i in s]\n",
    "    t_arr = [int(i) for i in str(t)]\n",
    "    #what if one string has more digits than the other\n",
    "    if s_arr < t_arr:\n",
    "        arr = s_arr\n",
    "    else:\n",
    "        arr = t_arr\n",
    "    result = [0] * len(arr)\n",
    "    for i in reversed(range(1, len(result))):\n",
    "        result[i] = s_arr[i] + t_arr[i]\n",
    "        if(result[i] != 2):\n",
    "            break\n",
    "        result[i] = 0\n",
    "        result[i - 1] += 1\n",
    "    if result[0] == 2:\n",
    "        result[0] = 1\n",
    "        result.append(0) #adds an item to the end of a list\n",
    "    mystring = \"\"\n",
    "    for digit in result:\n",
    "        mystring += str(digit)\n",
    "    return mystring\n",
    "        \n",
    "    \n",
    "\n"
   ]
  },
  {
   "cell_type": "code",
   "execution_count": 32,
   "metadata": {},
   "outputs": [
    {
     "data": {
      "text/plain": [
       "'001'"
      ]
     },
     "execution_count": 32,
     "metadata": {},
     "output_type": "execute_result"
    }
   ],
   "source": [
    "s = \"110\"\n",
    "t = \"101\"\n",
    "add_binary(s,t)"
   ]
  },
  {
   "cell_type": "code",
   "execution_count": null,
   "metadata": {},
   "outputs": [],
   "source": []
  }
 ],
 "metadata": {
  "kernelspec": {
   "display_name": "Python 3",
   "language": "python",
   "name": "python3"
  },
  "language_info": {
   "codemirror_mode": {
    "name": "ipython",
    "version": 3
   },
   "file_extension": ".py",
   "mimetype": "text/x-python",
   "name": "python",
   "nbconvert_exporter": "python",
   "pygments_lexer": "ipython3",
   "version": "3.7.0"
  }
 },
 "nbformat": 4,
 "nbformat_minor": 4
}

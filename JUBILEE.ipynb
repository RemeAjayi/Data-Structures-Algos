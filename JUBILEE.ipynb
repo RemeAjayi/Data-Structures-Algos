{
 "cells": [
  {
   "cell_type": "code",
   "execution_count": 18,
   "metadata": {},
   "outputs": [],
   "source": [
    "#!/bin/python3\n",
    "\n",
    "import sys\n",
    "import os\n",
    "from urllib.request import Request\n",
    "from urllib.request import urlopen\n",
    "from urllib.error import URLError\n",
    "import json\n",
    "\n",
    "\n",
    "# Complete the function below.\n",
    "# Base url: https://jsonmock.hackerrank.com/api/movies/search/?Title=\n",
    "\n",
    "import requests\n",
    "\n",
    "def  getMovieTitles(substr):\n",
    "    response = requests.get(f\"https://jsonmock.hackerrank.com/api/movies/search/?Title={substr}\")\n",
    "    \n",
    "    result = response.json()\n",
    "    total_pages = result[\"total_pages\"]\n",
    "    data = result[\"data\"]\n",
    "    \n",
    "    titles = [movie[\"Title\"] for movie in data]\n",
    "    \n",
    "    if total_pages > 1:\n",
    "        print(total_pages)\n",
    "        for pageNumber in range(2, total_pages + 1):\n",
    "            response = requests.get(f\"https://jsonmock.hackerrank.com/api/movies/search/?Title={substr}&page={pageNumber}\")\n",
    "            result = response.json()\n",
    "            total_pages = result[\"total_pages\"]\n",
    "            data = result[\"data\"]\n",
    "            print(result)\n",
    "            titles += [movie[\"Title\"] for movie in data]\n",
    "            print(len(titles))\n",
    "    \n",
    "    print(titles)\n",
    "    return titles.sort()\n",
    "            \n",
    "    \n",
    "    \n",
    "    "
   ]
  },
  {
   "cell_type": "code",
   "execution_count": 19,
   "metadata": {},
   "outputs": [
    {
     "name": "stdout",
     "output_type": "stream",
     "text": [
      "2\n",
      "{'page': 2, 'per_page': 10, 'total': 13, 'total_pages': 2, 'data': [{'Title': 'They Call Me Spiderman', 'Year': 2016, 'imdbID': 'tt5861236'}, {'Title': 'The Death of Spiderman', 'Year': 2015, 'imdbID': 'tt5921428'}, {'Title': 'Spiderman in Cannes', 'Year': 2016, 'imdbID': 'tt5978586'}]}\n",
      "13\n",
      "['Italian Spiderman', 'Superman, Spiderman or Batman', 'Spiderman', 'Spiderman', 'Fighting, Flying and Driving: The Stunts of Spiderman 3', 'Spiderman and Grandma', 'The Amazing Spiderman T4 Premiere Special', 'Amazing Spiderman Syndrome', \"Hollywood's Master Storytellers: Spiderman Live\", 'Spiderman 5', 'They Call Me Spiderman', 'The Death of Spiderman', 'Spiderman in Cannes']\n",
      "None\n"
     ]
    }
   ],
   "source": [
    "print(getMovieTitles('spiderman'))"
   ]
  },
  {
   "cell_type": "code",
   "execution_count": null,
   "metadata": {},
   "outputs": [],
   "source": [
    "#remove each string anagaram of earlier string\n",
    "from collections import defaultdict\n",
    "\n",
    "def funWithAnagrams(str):\n",
    "\n",
    "    anagrams = defaultdict(string)\n",
    "\n",
    "    for i in str:\n",
    "        word = sorted(list(i))\n",
    "        if word in anagrams:\n",
    "            str.remove(i)\n",
    "        else:\n",
    "            anagrams[word]\n",
    "\n",
    "    return anagrams.keys()\n",
    "\n"
   ]
  },
  {
   "cell_type": "code",
   "execution_count": null,
   "metadata": {},
   "outputs": [],
   "source": [
    "print(funWithAnagrams([\"code\", \"doce\", \"framer\", \"frame\"]))"
   ]
  },
  {
   "cell_type": "code",
   "execution_count": 44,
   "metadata": {},
   "outputs": [],
   "source": [
    "from collections import defaultdict\n",
    "def funWithAnagrams(str):\n",
    "    anagrams = defaultdict(dict)\n",
    "\n",
    "    for i in str:\n",
    "        word = sorted(list(i))\n",
    "        sorted_word = ''.join(word)\n",
    "        if sorted_word not in anagrams:\n",
    "            anagrams[sorted_word] = i\n",
    "\n",
    "    return sorted(list(anagrams.values()))"
   ]
  },
  {
   "cell_type": "code",
   "execution_count": 45,
   "metadata": {},
   "outputs": [
    {
     "name": "stdout",
     "output_type": "stream",
     "text": [
      "['code', 'frame', 'framer']\n"
     ]
    }
   ],
   "source": [
    "print(funWithAnagrams([\"code\", \"doce\", \"framer\", \"frame\"]))"
   ]
  },
  {
   "cell_type": "code",
   "execution_count": 21,
   "metadata": {},
   "outputs": [],
   "source": [
    "wallPositions = [1, 3, 7]\n",
    "wallHeights = [4, 3, 3]\n",
    "\n",
    "def maxHeight(wallPositions, wallHeights):\n",
    "    #is space b/w walls is > 0\n",
    "    mudHeights = []\n",
    "    for i in range(1, len(wallPositions)):\n",
    "        space = wallPositions[i] - wallPositions[i - 1]\n",
    "        print(\"space\", space)\n",
    "        if space > 0:\n",
    "            for i in range(space):\n",
    "                if wallHeights[i] < wallHeights[i - 1]:\n",
    "                    wallHeights.append(wallHeights[i - 1] + 1)\n",
    "                    mudHeights.append(wallHeights[i - 1] + 1)\n",
    "                    print(wallHeights[i])\n",
    "                    print(mudHeights)\n",
    "                else:\n",
    "                    wallHeights.append(wallHeights[i - 1] - 1)\n",
    "                    mudHeights.append(wallHeights[i - 1] + 1)\n",
    "                    print(mudHeights)\n",
    "\n",
    "    return max(mudHeights)\n",
    "\n"
   ]
  },
  {
   "cell_type": "code",
   "execution_count": 22,
   "metadata": {},
   "outputs": [
    {
     "name": "stdout",
     "output_type": "stream",
     "text": [
      "space 2\n",
      "[3]\n",
      "3\n",
      "[3, 5]\n",
      "space 4\n",
      "4\n",
      "[3, 5, 7]\n",
      "3\n",
      "[3, 5, 7, 5]\n",
      "[3, 5, 7, 5, 4]\n",
      "2\n",
      "[3, 5, 7, 5, 4, 4]\n"
     ]
    },
    {
     "data": {
      "text/plain": "7"
     },
     "execution_count": 22,
     "metadata": {},
     "output_type": "execute_result"
    }
   ],
   "source": [
    "maxHeight(wallPositions, wallHeights)"
   ]
  },
  {
   "cell_type": "code",
   "execution_count": 16,
   "metadata": {},
   "outputs": [
    {
     "name": "stdout",
     "output_type": "stream",
     "text": [
      "1\n",
      "1\n",
      "1\n",
      "1\n",
      "3\n",
      "3\n",
      "3\n",
      "3\n",
      "0\n",
      "0\n",
      "0\n",
      "0\n"
     ]
    }
   ],
   "source": [
    "col0= 0\n",
    "matrix = [[0,1,2,0],[3,4,5,2],[1,3,1,5]]\n",
    "for i in range(len(matrix) -1, -1, -1):\n",
    "    for j in range(len(matrix[0])-1, -1, -1):\n",
    "        print(matrix[i][0] )\n",
    "        if matrix[0][j] == 0:\n",
    "            matrix[i][j] = 0\n",
    "        elif matrix[i][0] == 0:\n",
    "            matrix[i][j] = 0\n",
    "    if (col0 == 0):\n",
    "        matrix[i][0] = 0"
   ]
  }
 ],
 "metadata": {
  "kernelspec": {
   "display_name": "Python 3.8.10 64-bit ('tf24_1': conda)",
   "metadata": {
    "interpreter": {
     "hash": "75caae79a24cd3ab0bee34111fe82f35748e15ef5a42fee985bf2794860b13d7"
    }
   },
   "name": "python3"
  },
  "language_info": {
   "codemirror_mode": {
    "name": "ipython",
    "version": 3
   },
   "file_extension": ".py",
   "mimetype": "text/x-python",
   "name": "python",
   "nbconvert_exporter": "python",
   "pygments_lexer": "ipython3",
   "version": "3.8.10"
  },
  "orig_nbformat": 2
 },
 "nbformat": 4,
 "nbformat_minor": 2
}